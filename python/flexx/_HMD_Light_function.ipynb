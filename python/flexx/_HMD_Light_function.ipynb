{
 "cells": [
  {
   "cell_type": "code",
   "execution_count": 1,
   "metadata": {},
   "outputs": [],
   "source": [
    "import numpy as np\n",
    "import matplotlib.pyplot as plt\n",
    "import cv2"
   ]
  },
  {
   "cell_type": "code",
   "execution_count": 2,
   "metadata": {},
   "outputs": [],
   "source": [
    "def find_targetBlob_pos(img, quad_mask):\n",
    "    ret = False\n",
    "    px = 0\n",
    "    py = 0\n",
    "    mask = quad_mask.astype(np.uint8)*255\n",
    "    circles_image = cv2.add(img, np.zeros(np.shape(img), dtype=np.uint8), mask=mask)\n",
    "    \n",
    "    # Set up the detector with default parameters.\n",
    "    detector = cv2.SimpleBlobDetector_create()\n",
    "\n",
    "    # Detect blobs.\n",
    "    keypoints = detector.detect(circles_image)\n",
    "\n",
    "    if len(keypoints) > 0:\n",
    "        ret = True\n",
    "        circles_image = cv2.cvtColor(circles_image, cv2.COLOR_GRAY2BGR)\n",
    "        circles_image = cv2.drawKeypoints(circles_image, keypoints, np.array([]), (0,255,0), cv2.DRAW_MATCHES_FLAGS_DRAW_RICH_KEYPOINTS)\n",
    "        px = int(keypoints[-1].pt[0])\n",
    "        py = int(keypoints[-1].pt[1])\n",
    "        cv2.circle(circles_image, (px,py), 2, (0,0,225), 2)\n",
    "\n",
    "    \n",
    "    return ret, px, py, circles_image"
   ]
  },
  {
   "cell_type": "code",
   "execution_count": 3,
   "metadata": {},
   "outputs": [],
   "source": [
    "def find_points_on_plane(y, x, mask, kernel_size):\n",
    "    k = kernel_size//2\n",
    "    for cy in range(y-k,y+k+1):\n",
    "        for cx in range(x-k,x+k+1):\n",
    "            if cx >= 0 and cy >=0 and cx < mask.shape[1] and cy < mask.shape[0] and mask[cy,cx] == True:\n",
    "                break\n",
    "                return cx, cy\n",
    "    \n",
    "    #if no on the plane ==> 放大kernel size\n",
    "    kernel_size = kernel_size*2 -1\n",
    "    k = kernel_size//2\n",
    "    for cy in range(y-k,y+k+1):\n",
    "        for cx in range(x-k,x+k+1):\n",
    "            if cx >= 0 and cy >=0 and cx < mask.shape[1] and cy < mask.shape[0] and mask[cy,cx] == True:\n",
    "                break\n",
    "                return cx, cy\n",
    "    return x, y"
   ]
  },
  {
   "cell_type": "code",
   "execution_count": 4,
   "metadata": {},
   "outputs": [],
   "source": [
    "def find_target_circle(grayvalue_img, quad_mask, plane_mask):\n",
    "    #find circle\n",
    "    success, px, py, circles_image = find_targetBlob_pos(grayvalue_img, quad_mask)\n",
    "    if success:\n",
    "        targetpos = (px, py)\n",
    "        if(plane_mask[py,px] == False):\n",
    "            px, py = find_points_on_plane(py, px, plane_mask, kernel_size = 7)\n",
    "    return success, px, py, circles_image"
   ]
  },
  {
   "cell_type": "code",
   "execution_count": 5,
   "metadata": {},
   "outputs": [
    {
     "name": "stderr",
     "output_type": "stream",
     "text": [
      "[NbConvertApp] Converting notebook _HMD_Light_function.ipynb to script\n",
      "[NbConvertApp] Writing 2071 bytes to _HMD_Light_function.py\n"
     ]
    }
   ],
   "source": [
    "!jupyter nbconvert --to script _HMD_Light_function.ipynb"
   ]
  }
 ],
 "metadata": {
  "kernelspec": {
   "display_name": "Python 3",
   "language": "python",
   "name": "python3"
  },
  "language_info": {
   "codemirror_mode": {
    "name": "ipython",
    "version": 3
   },
   "file_extension": ".py",
   "mimetype": "text/x-python",
   "name": "python",
   "nbconvert_exporter": "python",
   "pygments_lexer": "ipython3",
   "version": "3.6.8"
  }
 },
 "nbformat": 4,
 "nbformat_minor": 2
}
