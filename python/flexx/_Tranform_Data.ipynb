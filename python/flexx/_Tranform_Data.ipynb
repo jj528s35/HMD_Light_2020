{
 "cells": [
  {
   "cell_type": "code",
   "execution_count": 1,
   "metadata": {},
   "outputs": [],
   "source": [
    "import socket_sender"
   ]
  },
  {
   "cell_type": "code",
   "execution_count": 2,
   "metadata": {},
   "outputs": [],
   "source": [
    "#send plane equation a, b, c, d\n",
    "def send_plane_eq(plane_eq):\n",
    "    data = \"\"\n",
    "    temp1 = ['1 ']\n",
    "    temp1.append(\"%f %f %f %f\"%(plane_eq[0], plane_eq[1], plane_eq[2], plane_eq[3]))\n",
    "    data = data.join(temp1)\n",
    "#     print('send plane_eq:', data)\n",
    "    socket_sender.send(data)\n",
    "    \n",
    "    #send 3 sample points which found the best plane by RANSAC\n",
    "def send_sample_points(sample_points):\n",
    "    data = \"\"\n",
    "    temp2 = ['2 ']\n",
    "    for i in range(3): \n",
    "        temp2.append(\"%f %f %f \"%(sample_points[i][0], sample_points[i][1], sample_points[i][2]))\n",
    "    data = data.join(temp2)\n",
    "#     print('send sample point:', data)\n",
    "    socket_sender.send(data)\n",
    "    \n",
    "    #send quadrilateral 4 vertices (in would coord)\n",
    "def send_plane_points(points):\n",
    "    data = \"\"\n",
    "    temp3 = ['3 ']\n",
    "    point_num = len(points)\n",
    "    temp3.append(\"%d \"%(point_num))\n",
    "    for i in range(point_num): \n",
    "        x = points[i,0]\n",
    "        y = points[i,1]\n",
    "        z = points[i,2]\n",
    "        temp3.append(\"%f %f %f \"%(x, y, z))\n",
    "        if i == 3:\n",
    "            break\n",
    "    data = data.join(temp3)\n",
    "#     print('send plane point:', data)\n",
    "    if point_num > 4:\n",
    "        print(\"more than 4 points\")\n",
    "    socket_sender.send(data)\n",
    "    \n",
    "    #send quadrilateral center (quadrilateral : large quadrilateral on the mask of plane)\n",
    "def send_plane_center(x, y, points_3d):\n",
    "    data = \"\"\n",
    "    temp4 = ['4 ']\n",
    "    temp4.append(\"%f %f %f\"%(points_3d[y,x,0], points_3d[y,x,1], points_3d[y,x,2]))\n",
    "    data = data.join(temp4)\n",
    "#     print('send plane point:', data)\n",
    "    socket_sender.send(data)\n",
    "\n",
    "    #send little black circle position (in would space)\n",
    "def send_targetpos(x, y, points_3d):\n",
    "    data = \"\"\n",
    "    temp4 = ['5 ']\n",
    "    temp4.append(\"%f %f %f\"%(points_3d[y,x,0], points_3d[y,x,1], points_3d[y,x,2]))\n",
    "    data = data.join(temp4)\n",
    "#     print('send plane point:', data)\n",
    "    socket_sender.send(data)\n",
    "    \n",
    "def receive_data(cam):\n",
    "    stop = False\n",
    "    data = socket_sender.receive()\n",
    "    if(data != None):\n",
    "        print(\"receive \" + data)\n",
    "        stop = ParseData(data, cam)\n",
    "    return stop\n",
    "        \n",
    "def ParseData(data, cam):\n",
    "    stop = False\n",
    "    # split the string at ' '\n",
    "    msg = data.split(' ')\n",
    "    # get the first slice of the list\n",
    "    data_type = int(msg[0])\n",
    "    \n",
    "    if(data_type == 1):# change user case\n",
    "        fps = int(msg[1])\n",
    "        change_user_case(fps,cam)\n",
    "    elif(data_type == 2):\n",
    "        socket_sender.close_socket()\n",
    "        stop = True\n",
    "    \n",
    "    return stop\n",
    "\n",
    "\n",
    "# data receive from unity\n",
    "\n",
    "# change the usercase\n",
    "def change_user_case(fps,cam):\n",
    "    if(fps == 5):\n",
    "        cam.setUseCase('MODE_9_5FPS_2000')\n",
    "    print(\"UseCase\",cam.getCurrentUseCase())"
   ]
  },
  {
   "cell_type": "code",
   "execution_count": 3,
   "metadata": {},
   "outputs": [
    {
     "name": "stderr",
     "output_type": "stream",
     "text": [
      "[NbConvertApp] Converting notebook _Tranform_Data.ipynb to script\n",
      "[NbConvertApp] Writing 2669 bytes to _Tranform_Data.py\n"
     ]
    }
   ],
   "source": [
    "!jupyter nbconvert --to script _Tranform_Data.ipynb"
   ]
  },
  {
   "cell_type": "code",
   "execution_count": null,
   "metadata": {},
   "outputs": [],
   "source": []
  }
 ],
 "metadata": {
  "kernelspec": {
   "display_name": "Python 3",
   "language": "python",
   "name": "python3"
  },
  "language_info": {
   "codemirror_mode": {
    "name": "ipython",
    "version": 3
   },
   "file_extension": ".py",
   "mimetype": "text/x-python",
   "name": "python",
   "nbconvert_exporter": "python",
   "pygments_lexer": "ipython3",
   "version": "3.6.8"
  }
 },
 "nbformat": 4,
 "nbformat_minor": 2
}
