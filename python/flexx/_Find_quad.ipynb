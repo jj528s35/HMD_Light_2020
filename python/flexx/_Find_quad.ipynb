{
 "cells": [
  {
   "cell_type": "code",
   "execution_count": 1,
   "metadata": {},
   "outputs": [],
   "source": [
    "import numpy as np\n",
    "import matplotlib.pyplot as plt\n",
    "import cv2\n",
    "import random\n",
    "import math\n",
    "from matplotlib.path import Path"
   ]
  },
  {
   "cell_type": "code",
   "execution_count": 2,
   "metadata": {},
   "outputs": [],
   "source": [
    "def MorphologyEx(img):\n",
    "    kernel_size = 5 #7\n",
    "    kernel = cv2.getStructuringElement(cv2.MORPH_RECT,(kernel_size, kernel_size))\n",
    "    #膨胀之后再腐蚀，在用来关闭前景对象里的小洞或小黑点\n",
    "    #开运算用于移除由图像噪音形成的斑点\n",
    "    opened = cv2.morphologyEx(img, cv2.MORPH_OPEN, kernel)\n",
    "    closing = cv2.morphologyEx(img,cv2.MORPH_CLOSE,kernel)\n",
    "    \n",
    "    kernel_size = 3\n",
    "    plane_blur = cv2.GaussianBlur(closing,(kernel_size, kernel_size), 0)\n",
    "    return plane_blur\n",
    "\n",
    "\n",
    "def find_quadrilateral(img):\n",
    "    #find large 四邊形 on the mask of plane, and find the center of it\n",
    "    HoughLines_edge = np.zeros((img.shape[0],img.shape[1]))\n",
    "    cx = 0\n",
    "    cy = 0\n",
    "    approx = []\n",
    "    ret = False\n",
    "    \n",
    "    #关闭前景对象里的小洞或小黑点\n",
    "    blur = MorphologyEx(img)\n",
    "    image = cv2.cvtColor(blur, cv2.COLOR_GRAY2BGR)\n",
    "    \n",
    "    #find Contours with large area\n",
    "    (_, cnts, _) = cv2.findContours(blur, cv2.RETR_LIST, cv2.CHAIN_APPROX_SIMPLE)\n",
    "    cnts=sorted(cnts, key = cv2.contourArea, reverse = True)[:5]\n",
    "\n",
    "    # loop over our contours\n",
    "    for c in cnts:\n",
    "        peri = cv2.arcLength(c, True)#輪廓長度\n",
    "        area = cv2.contourArea(c)\n",
    "        \n",
    "        approx = cv2.approxPolyDP(c, 0.08 * peri, True)#把一个连续光滑曲线折线化\n",
    "        approx = cv2.convexHull(approx)# find凸多邊形框\n",
    "        if area > 500:\n",
    "            approx = cv2.approxPolyDP(c, 0.08 * peri, True)#把一个连续光滑曲线折线化\n",
    "            approx = cv2.convexHull(approx)# find凸多邊形框\n",
    "            if len(approx) == 4 :\n",
    "                cv2.drawContours(image, [approx], -1, (255,0,0), 3)\n",
    "                break\n",
    "            elif len(approx) > 4:\n",
    "                k = 0.09\n",
    "                while k < 0.2 and len(approx) > 4:\n",
    "                    approx = cv2.approxPolyDP(c, k * peri, True)\n",
    "                    approx = cv2.convexHull(approx)#find凸多邊形框\n",
    "                    k = k + 0.03\n",
    "                    if len(approx) == 4 :\n",
    "                        cv2.drawContours(image, [approx], -1, (0,0,255), 3)\n",
    "                        break\n",
    "            elif len(approx) < 4:\n",
    "                k = 0.07\n",
    "                while k > 0.02 and len(approx) < 4:\n",
    "                    approx = cv2.approxPolyDP(c, k * peri, True)\n",
    "                    approx = cv2.convexHull(approx)#find凸多邊形框\n",
    "                    k = k - 0.02\n",
    "                    if len(approx) == 4 :\n",
    "                        cv2.drawContours(image, [approx], -1, (0,0,255), 3)\n",
    "                        break\n",
    "\n",
    "        if len(approx) == 4 :\n",
    "            ret = True\n",
    "            break\n",
    "    \n",
    "    if(len(approx)):\n",
    "        M = cv2.moments(approx)\n",
    "        if (M['m00'] != 0):\n",
    "            cx = int(M['m10']/M['m00'])\n",
    "            cy = int(M['m01']/M['m00'])\n",
    "            cv2.circle(image, (cx,cy), 3, (0, 255, 255), -1)\n",
    "        if cy >= img.shape[0] or cx >= img.shape[1] or cx < 0 or cy < 0:\n",
    "            cx,cy = 0,0\n",
    "        \n",
    "    if len(approx) >= 4 :\n",
    "        ret = True\n",
    "    \n",
    "    return ret, image, approx, cx, cy"
   ]
  },
  {
   "cell_type": "code",
   "execution_count": 3,
   "metadata": {},
   "outputs": [],
   "source": [
    "def find_quad_mask(new_approx, shape):\n",
    "    #get mask of quadrilateral \n",
    "    height = shape[0]\n",
    "    width = shape[1]\n",
    "    mask = np.ones((height,width))\n",
    "    polygon = []\n",
    "    \n",
    "    if (len(new_approx) >= 4):\n",
    "        polygon=[(new_approx[0,0,1],new_approx[0,0,0]), (new_approx[1,0,1],new_approx[1,0,0]), (new_approx[2,0,1],new_approx[2,0,0]), (new_approx[3,0,1],new_approx[3,0,0])]\n",
    "    elif (len(new_approx) == 3):\n",
    "        polygon=[(new_approx[0,0,1],new_approx[0,0,0]), (new_approx[1,0,1],new_approx[1,0,0]), (new_approx[2,0,1],new_approx[2,0,0])]\n",
    "\n",
    "    if (len(new_approx) >= 3 ):\n",
    "        successful = True\n",
    "        poly_path=Path(polygon)\n",
    "\n",
    "        x, y = np.mgrid[:height, :width]\n",
    "        coors=np.hstack((x.reshape(-1, 1), y.reshape(-1,1))) # coors.shape is (4000000,2)\n",
    "\n",
    "        mask = poly_path.contains_points(coors)\n",
    "        mask = mask.reshape(height, width)\n",
    "    else:\n",
    "        successful = False\n",
    "    return successful, mask"
   ]
  },
  {
   "cell_type": "code",
   "execution_count": 4,
   "metadata": {},
   "outputs": [],
   "source": [
    "# def find_quad(img):\n",
    "#     find_quad_success, find_quad_img, approx, cx, cy = find_quadrilateral(img)\n",
    "    \n",
    "#     if find_quad_success:\n",
    "#         mask_success, mask = find_quad_mask(approx, image.shape)\n",
    "#     else:\n",
    "#         mask_success = False\n",
    "        \n",
    "#     return mask_success, find_quad_img, approx, cx, cy, mask"
   ]
  },
  {
   "cell_type": "code",
   "execution_count": 5,
   "metadata": {},
   "outputs": [
    {
     "name": "stderr",
     "output_type": "stream",
     "text": [
      "[NbConvertApp] Converting notebook _Find_quad.ipynb to script\n",
      "[NbConvertApp] Writing 4302 bytes to _Find_quad.py\n"
     ]
    }
   ],
   "source": [
    "!jupyter nbconvert --to script _Find_quad.ipynb"
   ]
  },
  {
   "cell_type": "code",
   "execution_count": null,
   "metadata": {},
   "outputs": [],
   "source": []
  }
 ],
 "metadata": {
  "kernelspec": {
   "display_name": "Python 3",
   "language": "python",
   "name": "python3"
  },
  "language_info": {
   "codemirror_mode": {
    "name": "ipython",
    "version": 3
   },
   "file_extension": ".py",
   "mimetype": "text/x-python",
   "name": "python",
   "nbconvert_exporter": "python",
   "pygments_lexer": "ipython3",
   "version": "3.6.8"
  }
 },
 "nbformat": 4,
 "nbformat_minor": 2
}
