{
 "cells": [
  {
   "cell_type": "code",
   "execution_count": 1,
   "metadata": {},
   "outputs": [],
   "source": [
    "import numpy as np\n",
    "import cv2\n",
    "import glob\n",
    "import matplotlib.pyplot as plt\n",
    "from PIL import Image\n",
    "import os\n",
    "import os.path\n",
    "import glob\n",
    "import argparse"
   ]
  },
  {
   "cell_type": "code",
   "execution_count": 2,
   "metadata": {},
   "outputs": [],
   "source": [
    "np.set_printoptions(suppress=True)"
   ]
  },
  {
   "cell_type": "code",
   "execution_count": 3,
   "metadata": {},
   "outputs": [],
   "source": [
    "# prepare object points, like (0,0,0), (1,0,0), (2,0,0) ....,(6,5,0)\n",
    "# (8,6) is for the given testing images.\n",
    "# If you use the another data (e.g. pictures you take by your smartphone), \n",
    "# you need to set the corresponding numbers.\n",
    "corner_x = 8\n",
    "corner_y = 7\n",
    "objp = np.zeros((corner_x*corner_y,3), np.float32)\n",
    "objp[:,:2] = np.mgrid[0:corner_x, 0:corner_y].T.reshape(-1,2)\n",
    "block_len = 2.5\n",
    "objp = objp * block_len"
   ]
  },
  {
   "cell_type": "code",
   "execution_count": 4,
   "metadata": {},
   "outputs": [],
   "source": [
    "_depth_mtx = np.mat([\n",
    "    [211.78734743, 0, 117.65755014],\n",
    "    [0, 211.60443122, 87.02191618],\n",
    "    [0, 0, 1. ]])\n",
    "_depth_dist = np.mat([[-1.79341292e-02 ,-1.88867100e+00, -2.02313569e-04, -4.28223089e-03\n",
    "   ,3.24046539e+00]])\n",
    "\n",
    "\n",
    "_RGB_mtx = np.mat([[913.24145912,   0.,         668.9538477  ],\n",
    " [  0.,         905.10342204, 389.24919723],\n",
    " [  0.,           0.,           1.        ]])\n",
    "\n",
    "_RGB_dist =  np.mat([[ 0.25755514, -0.92817129,  0.00150453,  0.01340316,  1.17293952]])"
   ]
  },
  {
   "cell_type": "code",
   "execution_count": 5,
   "metadata": {},
   "outputs": [
    {
     "ename": "error",
     "evalue": "OpenCV(3.4.2) c:\\projects\\opencv-python\\opencv\\modules\\imgproc\\src\\color.hpp:253: error: (-215:Assertion failed) VScn::contains(scn) && VDcn::contains(dcn) && VDepth::contains(depth) in function 'cv::CvtHelper<struct cv::Set<3,4,-1>,struct cv::Set<1,-1,-1>,struct cv::Set<0,2,5>,2>::CvtHelper'\n",
     "output_type": "error",
     "traceback": [
      "\u001b[1;31m---------------------------------------------------------------------------\u001b[0m",
      "\u001b[1;31merror\u001b[0m                                     Traceback (most recent call last)",
      "\u001b[1;32m<ipython-input-5-5f98021d0430>\u001b[0m in \u001b[0;36m<module>\u001b[1;34m\u001b[0m\n\u001b[0;32m      6\u001b[0m \u001b[1;31m# Test image with known cameramatrix\u001b[0m\u001b[1;33m\u001b[0m\u001b[1;33m\u001b[0m\u001b[1;33m\u001b[0m\u001b[0m\n\u001b[0;32m      7\u001b[0m \u001b[0mimg\u001b[0m \u001b[1;33m=\u001b[0m \u001b[0mcv2\u001b[0m\u001b[1;33m.\u001b[0m\u001b[0mimread\u001b[0m\u001b[1;33m(\u001b[0m\u001b[1;34m'depth_chessboard_data/01.png'\u001b[0m\u001b[1;33m)\u001b[0m\u001b[1;33m\u001b[0m\u001b[1;33m\u001b[0m\u001b[0m\n\u001b[1;32m----> 8\u001b[1;33m \u001b[0mgray\u001b[0m \u001b[1;33m=\u001b[0m \u001b[0mcv2\u001b[0m\u001b[1;33m.\u001b[0m\u001b[0mcvtColor\u001b[0m\u001b[1;33m(\u001b[0m\u001b[0mimg\u001b[0m\u001b[1;33m,\u001b[0m \u001b[0mcv2\u001b[0m\u001b[1;33m.\u001b[0m\u001b[0mCOLOR_BGR2GRAY\u001b[0m\u001b[1;33m)\u001b[0m\u001b[1;33m\u001b[0m\u001b[1;33m\u001b[0m\u001b[0m\n\u001b[0m\u001b[0;32m      9\u001b[0m \u001b[0mplt\u001b[0m\u001b[1;33m.\u001b[0m\u001b[0mimshow\u001b[0m\u001b[1;33m(\u001b[0m\u001b[0mgray\u001b[0m\u001b[1;33m)\u001b[0m\u001b[1;33m\u001b[0m\u001b[1;33m\u001b[0m\u001b[0m\n\u001b[0;32m     10\u001b[0m \u001b[0mimg_size\u001b[0m \u001b[1;33m=\u001b[0m \u001b[1;33m(\u001b[0m\u001b[0mimg\u001b[0m\u001b[1;33m.\u001b[0m\u001b[0mshape\u001b[0m\u001b[1;33m[\u001b[0m\u001b[1;36m1\u001b[0m\u001b[1;33m]\u001b[0m\u001b[1;33m,\u001b[0m \u001b[0mimg\u001b[0m\u001b[1;33m.\u001b[0m\u001b[0mshape\u001b[0m\u001b[1;33m[\u001b[0m\u001b[1;36m0\u001b[0m\u001b[1;33m]\u001b[0m\u001b[1;33m)\u001b[0m\u001b[1;33m\u001b[0m\u001b[1;33m\u001b[0m\u001b[0m\n",
      "\u001b[1;31merror\u001b[0m: OpenCV(3.4.2) c:\\projects\\opencv-python\\opencv\\modules\\imgproc\\src\\color.hpp:253: error: (-215:Assertion failed) VScn::contains(scn) && VDcn::contains(dcn) && VDepth::contains(depth) in function 'cv::CvtHelper<struct cv::Set<3,4,-1>,struct cv::Set<1,-1,-1>,struct cv::Set<0,2,5>,2>::CvtHelper'\n"
     ]
    }
   ],
   "source": [
    "_objpoints = []\n",
    "_imgpoints = []\n",
    "_RGBimgpoints = []\n",
    "\n",
    "\n",
    "# Test image with known cameramatrix\n",
    "img = cv2.imread('depth_chessboard_data/01.png')\n",
    "gray = cv2.cvtColor(img, cv2.COLOR_BGR2GRAY)\n",
    "plt.imshow(gray)\n",
    "img_size = (img.shape[1], img.shape[0])\n",
    "\n",
    "#Find the chessboard corners\n",
    "print('find the chessboard corners of')\n",
    "ret, imgpoints = cv2.findChessboardCorners(gray, (corner_x,corner_y), None)\n",
    "\n",
    "\n",
    "_objpoints.append(objp)\n",
    "_imgpoints.append(imgpoints)\n",
    "\n",
    "\n",
    "retval, RGB_rvecs, RGB_tvecs = cv2.solvePnP(objp, imgpoints, _RGB_mtx, _RGB_dist)\n",
    "\n",
    "RGB_Vr = np.array(RGB_rvecs)\n",
    "RGB_Tr = np.array(RGB_tvecs)\n",
    "RGB_extrinsics_ = np.concatenate((RGB_Vr, RGB_Tr), axis=1).reshape(-1,6)\n",
    "print(RGB_Tr)\n",
    "print(RGB_extrinsics_)"
   ]
  },
  {
   "cell_type": "code",
   "execution_count": null,
   "metadata": {},
   "outputs": [],
   "source": [
    "_RGBimgpoints = []\n",
    "\n",
    "\n",
    "# Test image with known cameramatrix\n",
    "img = cv2.imread('camera_chessboard_data/01.png')\n",
    "gray = cv2.cvtColor(img, cv2.COLOR_BGR2GRAY)\n",
    "plt.imshow(gray)\n",
    "img_size = (img.shape[1], img.shape[0])\n",
    "\n",
    "#Find the chessboard corners\n",
    "print('find the chessboard corners of')\n",
    "ret, RGBimgpoints = cv2.findChessboardCorners(gray, (corner_x,corner_y), None)\n",
    "\n",
    "_RGBimgpoints.append(RGBimgpoints)\n",
    "\n",
    "\n",
    "retval, RGB_rvecs, RGB_tvecs = cv2.solvePnP(objp, RGBimgpoints, _RGB_mtx, _RGB_dist)\n",
    "\n",
    "RGB_Vr = np.array(RGB_rvecs)\n",
    "RGB_Tr = np.array(RGB_tvecs)\n",
    "RGB_extrinsics_ = np.concatenate((RGB_Vr, RGB_Tr), axis=1).reshape(-1,6)\n",
    "print(RGB_Tr)\n",
    "print(RGB_extrinsics_)"
   ]
  },
  {
   "cell_type": "code",
   "execution_count": null,
   "metadata": {},
   "outputs": [],
   "source": [
    "print('=== Result ===')\n",
    "ret, depth_cam_int, depth_cam_dist, RGB_cam_int, RGB_cam_dist, depth_rgb_rmat, depth_rgb_tvec, E, F = cv2.stereoCalibrate(\n",
    "    _objpoints, _imgpoints, _RGBimgpoints, _depth_mtx, _depth_dist, _RGB_mtx, _RGB_dist, None)\n",
    "\n",
    "print('  RMS :', ret)\n",
    "print('  Depth Camera intrinsic parameters :')\n",
    "print(depth_cam_int, '    ')\n",
    "print('  Depth Camera distortion parameters :')\n",
    "print(depth_cam_dist, '    ')\n",
    "print('  RGB Camera intrinsic parameters :')\n",
    "print(RGB_cam_int, '    ')\n",
    "print('  RGB Camera distortion parameters :')\n",
    "print(RGB_cam_dist, '    ')\n",
    "print('  Rotation matrix / translation vector from depth camera to RGB camera')\n",
    "print('  (they translate points from depth camera coord to RGB camera coord) :')\n",
    "print(depth_rgb_rmat, '    ')\n",
    "print(depth_rgb_tvec, '    ')\n",
    "print()\n",
    "print('Rotation vector')\n",
    "v,_ = cv2.Rodrigues(depth_rgb_rmat)\n",
    "print(v)"
   ]
  }
 ],
 "metadata": {
  "kernelspec": {
   "display_name": "Python 3",
   "language": "python",
   "name": "python3"
  },
  "language_info": {
   "codemirror_mode": {
    "name": "ipython",
    "version": 3
   },
   "file_extension": ".py",
   "mimetype": "text/x-python",
   "name": "python",
   "nbconvert_exporter": "python",
   "pygments_lexer": "ipython3",
   "version": "3.6.8"
  }
 },
 "nbformat": 4,
 "nbformat_minor": 2
}
