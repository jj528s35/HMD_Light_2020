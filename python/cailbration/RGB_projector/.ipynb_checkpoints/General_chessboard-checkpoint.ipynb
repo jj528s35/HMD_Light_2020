{
 "cells": [
  {
   "cell_type": "code",
   "execution_count": 3,
   "metadata": {},
   "outputs": [],
   "source": [
    "import cv2\n",
    "import os\n",
    "import os.path\n",
    "import numpy as np"
   ]
  },
  {
   "cell_type": "code",
   "execution_count": 6,
   "metadata": {},
   "outputs": [],
   "source": [
    "def storeimg(img, i):\n",
    "    TARGETDIR = './chessboard'\n",
    "    if not os.path.exists(TARGETDIR):\n",
    "        os.mkdir(TARGETDIR)\n",
    "        \n",
    "    cv2.imwrite(TARGETDIR + '/' + str(i).zfill(2) + '.png', img)"
   ]
  },
  {
   "cell_type": "code",
   "execution_count": 43,
   "metadata": {},
   "outputs": [],
   "source": [
    "corner_x = 8\n",
    "corner_y = 15\n",
    "cube_num_x = corner_x + 1\n",
    "cube_num_y = corner_y + 1\n",
    "\n",
    "img = np.zeros((1080,1920))\n",
    "w = 120\n",
    "\n",
    "chessboard = np.zeros((cube_num_x,cube_num_y),dtype=int)\n",
    "# (odd_rows, even_columns)\n",
    "chessboard[1::2,::2] = 255\n",
    "# (even_rows, odd_columns)\n",
    "chessboard[::2,1::2] = 255\n",
    "\n",
    "image = np.kron(chessboard, np.ones((120, 120)))\n",
    "\n",
    "\n",
    "storeimg(image,1)"
   ]
  },
  {
   "cell_type": "code",
   "execution_count": 44,
   "metadata": {},
   "outputs": [
    {
     "name": "stdout",
     "output_type": "stream",
     "text": [
      "(1080, 1920)\n"
     ]
    },
    {
     "data": {
      "image/png": "[encoded data removed]",
      "text/plain": [
       "<Figure size 432x288 with 1 Axes>"
      ]
     },
     "metadata": {
      "needs_background": "light"
     },
     "output_type": "display_data"
    }
   ],
   "source": [
    "import matplotlib.pyplot as plt\n",
    "plt.imshow(image)\n",
    "print(image.shape)"
   ]
  },
  {
   "cell_type": "code",
   "execution_count": null,
   "metadata": {},
   "outputs": [],
   "source": []
  },
  {
   "cell_type": "code",
   "execution_count": 32,
   "metadata": {},
   "outputs": [],
   "source": [
    "corner_x = 7\n",
    "corner_y = 8\n",
    "cube_num_x = corner_x + 1\n",
    "cube_num_y = corner_y + 1\n",
    "\n",
    "img = np.ones((1080,1920))*255\n",
    "w = 125\n",
    "\n",
    "chessboard = np.zeros((cube_num_x,cube_num_y),dtype=int)\n",
    "# (odd_rows, even_columns)\n",
    "chessboard[1::2,::2] = 255\n",
    "# (even_rows, odd_columns)\n",
    "chessboard[::2,1::2] = 255\n",
    "\n",
    "image = np.kron(chessboard, np.ones((w, w)))\n",
    "\n",
    "\n",
    "storeimg(image,0)"
   ]
  },
  {
   "cell_type": "code",
   "execution_count": 33,
   "metadata": {
    "scrolled": true
   },
   "outputs": [
    {
     "name": "stdout",
     "output_type": "stream",
     "text": [
      "(1000, 1125)\n"
     ]
    },
    {
     "data": {
      "image/png": "[encoded data removed]",
      "text/plain": [
       "<Figure size 432x288 with 1 Axes>"
      ]
     },
     "metadata": {
      "needs_background": "light"
     },
     "output_type": "display_data"
    }
   ],
   "source": [
    "import matplotlib.pyplot as plt\n",
    "plt.imshow(image)\n",
    "print(image.shape)"
   ]
  },
  {
   "cell_type": "code",
   "execution_count": 34,
   "metadata": {
    "scrolled": true
   },
   "outputs": [
    {
     "name": "stdout",
     "output_type": "stream",
     "text": [
      "(1080, 1920)\n"
     ]
    },
    {
     "data": {
      "image/png": "[encoded data removed]",
      "text/plain": [
       "<Figure size 432x288 with 1 Axes>"
      ]
     },
     "metadata": {
      "needs_background": "light"
     },
     "output_type": "display_data"
    }
   ],
   "source": [
    "img[40:1040,397:1522] = image\n",
    "plt.imshow(img)\n",
    "print(img.shape)\n",
    "storeimg(img,2)"
   ]
  },
  {
   "cell_type": "code",
   "execution_count": 31,
   "metadata": {},
   "outputs": [],
   "source": [
    "img = np.ones((1080,1920))\n",
    "storeimg(img,3)"
   ]
  },
  {
   "cell_type": "code",
   "execution_count": null,
   "metadata": {},
   "outputs": [],
   "source": []
  }
 ],
 "metadata": {
  "kernelspec": {
   "display_name": "Python 3",
   "language": "python",
   "name": "python3"
  },
  "language_info": {
   "codemirror_mode": {
    "name": "ipython",
    "version": 3
   },
   "file_extension": ".py",
   "mimetype": "text/x-python",
   "name": "python",
   "nbconvert_exporter": "python",
   "pygments_lexer": "ipython3",
   "version": "3.6.8"
  }
 },
 "nbformat": 4,
 "nbformat_minor": 2
}
