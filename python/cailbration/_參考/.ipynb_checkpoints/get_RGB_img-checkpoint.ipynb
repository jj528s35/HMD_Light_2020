{
 "cells": [
  {
   "cell_type": "code",
   "execution_count": 2,
   "metadata": {},
   "outputs": [],
   "source": [
    "import cv2\n",
    "import os\n",
    "import os.path"
   ]
  },
  {
   "cell_type": "code",
   "execution_count": 3,
   "metadata": {},
   "outputs": [],
   "source": [
    "def storeimg(img, i):\n",
    "    TARGETDIR = './graycode_chessboard_data'\n",
    "    if not os.path.exists(TARGETDIR):\n",
    "        os.mkdir(TARGETDIR)\n",
    "        \n",
    "    cv2.imwrite(TARGETDIR + '/' + str(i).zfill(2) + '.png', img)"
   ]
  },
  {
   "cell_type": "code",
   "execution_count": null,
   "metadata": {
    "scrolled": true
   },
   "outputs": [
    {
     "name": "stdout",
     "output_type": "stream",
     "text": [
      "2.0\n",
      "store img  1\n"
     ]
    }
   ],
   "source": [
    "num = 0\n",
    "\n",
    "capture = cv2.VideoCapture(0)\n",
    "capture.open(1 + cv2.CAP_DSHOW)\n",
    "capture.set(3, 1280) # set the resolution\n",
    "capture.set(4, 720)\n",
    "capture.set(cv2.CAP_PROP_AUTOFOCUS, 0) # turn the autofocus off\n",
    "print(capture.get(cv2.CAP_PROP_AUTOFOCUS))\n",
    "\n",
    "# fourcc = cv2.VideoWriter_fourcc('M', 'J', 'P', 'G')\n",
    "# capture.set(cv2.CAP_PROP_FOURCC, fourcc)\n",
    "# capture.set(cv2.CAP_PROP_FPS, 30)\n",
    "# capture.set(cv2.CAP_PROP_FRAME_WIDTH, 1280)\n",
    "# capture.set(cv2.CAP_PROP_FRAME_HEIGHT, 720)\n",
    "\n",
    "while(1):\n",
    "    ret, frame = capture.read()\n",
    "    if frame is None:\n",
    "        print(\"Frame is empty\")\n",
    "        break\n",
    "    else:\n",
    "        if cv2.waitKey(10) & 0xFF == ord(' '):\n",
    "            storeimg(frame, num)\n",
    "            num = num + 1\n",
    "            print(\"store img \", num)\n",
    "            cv2.imshow('V', frame)\n",
    "        \n",
    "        \n",
    "        cv2.imshow('VIDEO', frame)\n",
    "        \n",
    "        if cv2.waitKey(10) & 0xFF == ord('q'):\n",
    "            cv2.destroyAllWindows()\n",
    "            print(\"stop\")\n",
    "            break\n",
    "        "
   ]
  },
  {
   "cell_type": "code",
   "execution_count": null,
   "metadata": {},
   "outputs": [],
   "source": []
  },
  {
   "cell_type": "code",
   "execution_count": null,
   "metadata": {},
   "outputs": [],
   "source": []
  }
 ],
 "metadata": {
  "kernelspec": {
   "display_name": "Python 3",
   "language": "python",
   "name": "python3"
  },
  "language_info": {
   "codemirror_mode": {
    "name": "ipython",
    "version": 3
   },
   "file_extension": ".py",
   "mimetype": "text/x-python",
   "name": "python",
   "nbconvert_exporter": "python",
   "pygments_lexer": "ipython3",
   "version": "3.6.8"
  }
 },
 "nbformat": 4,
 "nbformat_minor": 2
}
