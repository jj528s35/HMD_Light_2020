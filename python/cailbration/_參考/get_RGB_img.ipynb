{
 "cells": [
  {
   "cell_type": "code",
   "execution_count": 1,
   "metadata": {},
   "outputs": [],
   "source": [
    "import cv2\n",
    "import os\n",
    "import os.path"
   ]
  },
  {
   "cell_type": "code",
   "execution_count": 2,
   "metadata": {},
   "outputs": [],
   "source": [
    "def storeimg(img, i):\n",
    "    TARGETDIR = './graycode_chessboard_data'\n",
    "    if not os.path.exists(TARGETDIR):\n",
    "        os.mkdir(TARGETDIR)\n",
    "        \n",
    "    cv2.imwrite(TARGETDIR + '/' + str(i).zfill(2) + '.png', img)"
   ]
  },
  {
   "cell_type": "code",
   "execution_count": 3,
   "metadata": {},
   "outputs": [],
   "source": [
    "def cailbration_data(image):\n",
    "    # prepare object points, like (0,0,0), (1,0,0), (2,0,0) ....,(6,5,0)\n",
    "    # (8,6) is for the given testing images.\n",
    "    # If you use the another data (e.g. pictures you take by your smartphone), \n",
    "    # you need to set the corresponding numbers.\n",
    "    corner_x = 8\n",
    "    corner_y = 7\n",
    "    \n",
    "    #Find the chessboard corners\n",
    "    ret, corners = cv2.findChessboardCorners(image, (corner_x,corner_y), None)\n",
    "    \n",
    "    return ret\n",
    "    "
   ]
  },
  {
   "cell_type": "code",
   "execution_count": 4,
   "metadata": {
    "scrolled": true
   },
   "outputs": [
    {
     "name": "stdout",
     "output_type": "stream",
     "text": [
      "2.0\n",
      "store img  1\n",
      "store img  2\n",
      "store img  3\n",
      "store img  4\n",
      "store img  5\n",
      "store img  6\n",
      "store img  7\n",
      "store img  8\n",
      "store img  9\n",
      "store img  10\n",
      "stop\n"
     ]
    }
   ],
   "source": [
    "num = 0\n",
    "\n",
    "capture = cv2.VideoCapture(0)\n",
    "capture.open(1 + cv2.CAP_DSHOW)\n",
    "capture.set(3, 1280) # set the resolution\n",
    "capture.set(4, 720)\n",
    "capture.set(cv2.CAP_PROP_AUTOFOCUS, 0) # turn the autofocus off\n",
    "print(capture.get(cv2.CAP_PROP_AUTOFOCUS))\n",
    "\n",
    "# fourcc = cv2.VideoWriter_fourcc('M', 'J', 'P', 'G')\n",
    "# capture.set(cv2.CAP_PROP_FOURCC, fourcc)\n",
    "# capture.set(cv2.CAP_PROP_FPS, 30)\n",
    "# capture.set(cv2.CAP_PROP_FRAME_WIDTH, 1280)\n",
    "# capture.set(cv2.CAP_PROP_FRAME_HEIGHT, 720)\n",
    "\n",
    "while(1):\n",
    "    ret, frame = capture.read()\n",
    "    if frame is None:\n",
    "        print(\"Frame is empty\")\n",
    "        break\n",
    "    else:\n",
    "        if cv2.waitKey(10) & 0xFF == ord(' '):\n",
    "            if cailbration_data(frame):\n",
    "                storeimg(frame, num)\n",
    "                num = num + 1\n",
    "                print(\"store img \", num)\n",
    "                cv2.imshow('V', frame)\n",
    "            else:\n",
    "                print(\"1\")\n",
    "        \n",
    "        \n",
    "        cv2.imshow('VIDEO', frame)\n",
    "        \n",
    "        if cv2.waitKey(10) & 0xFF == ord('q'):\n",
    "            cv2.destroyAllWindows()\n",
    "            print(\"stop\")\n",
    "            break\n",
    "        "
   ]
  },
  {
   "cell_type": "code",
   "execution_count": null,
   "metadata": {},
   "outputs": [],
   "source": []
  },
  {
   "cell_type": "code",
   "execution_count": null,
   "metadata": {},
   "outputs": [],
   "source": []
  }
 ],
 "metadata": {
  "kernelspec": {
   "display_name": "Python 3",
   "language": "python",
   "name": "python3"
  },
  "language_info": {
   "codemirror_mode": {
    "name": "ipython",
    "version": 3
   },
   "file_extension": ".py",
   "mimetype": "text/x-python",
   "name": "python",
   "nbconvert_exporter": "python",
   "pygments_lexer": "ipython3",
   "version": "3.6.8"
  }
 },
 "nbformat": 4,
 "nbformat_minor": 2
}
